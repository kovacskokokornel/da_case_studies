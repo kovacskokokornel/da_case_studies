{
 "cells": [
  {
   "cell_type": "code",
   "execution_count": 1,
   "metadata": {},
   "outputs": [
    {
     "name": "stdout",
     "output_type": "stream",
     "text": [
      "Requirement already satisfied: pmdarima in /anaconda3/lib/python3.6/site-packages (1.8.0)\n",
      "Requirement already satisfied: numpy>=1.17.3 in /anaconda3/lib/python3.6/site-packages (from pmdarima) (1.18.5)\n",
      "Requirement already satisfied: Cython<0.29.18,>=0.29 in /anaconda3/lib/python3.6/site-packages (from pmdarima) (0.29.17)\n",
      "Requirement already satisfied: statsmodels!=0.12.0,>=0.11 in /anaconda3/lib/python3.6/site-packages (from pmdarima) (0.11.1)\n",
      "Requirement already satisfied: scikit-learn>=0.22 in /anaconda3/lib/python3.6/site-packages (from pmdarima) (0.23.2)\n",
      "Requirement already satisfied: scipy>=1.3.2 in /anaconda3/lib/python3.6/site-packages (from pmdarima) (1.4.1)\n",
      "Requirement already satisfied: pandas>=0.19 in /anaconda3/lib/python3.6/site-packages (from pmdarima) (1.1.0)\n",
      "Requirement already satisfied: urllib3 in /anaconda3/lib/python3.6/site-packages (from pmdarima) (1.22)\n",
      "Requirement already satisfied: joblib>=0.11 in /anaconda3/lib/python3.6/site-packages (from pmdarima) (0.17.0)\n",
      "Requirement already satisfied: setuptools!=50.0.0,>=38.6.0 in /anaconda3/lib/python3.6/site-packages (from pmdarima) (39.1.0)\n",
      "Requirement already satisfied: patsy>=0.5 in /anaconda3/lib/python3.6/site-packages (from statsmodels!=0.12.0,>=0.11->pmdarima) (0.5.1)\n",
      "Requirement already satisfied: threadpoolctl>=2.0.0 in /anaconda3/lib/python3.6/site-packages (from scikit-learn>=0.22->pmdarima) (2.1.0)\n",
      "Requirement already satisfied: pytz>=2017.2 in /anaconda3/lib/python3.6/site-packages (from pandas>=0.19->pmdarima) (2018.4)\n",
      "Requirement already satisfied: python-dateutil>=2.7.3 in /anaconda3/lib/python3.6/site-packages (from pandas>=0.19->pmdarima) (2.7.3)\n",
      "Requirement already satisfied: six in /anaconda3/lib/python3.6/site-packages (from patsy>=0.5->statsmodels!=0.12.0,>=0.11->pmdarima) (1.11.0)\n",
      "\u001b[33mWARNING: You are using pip version 20.1.1; however, version 21.0.1 is available.\n",
      "You should consider upgrading via the '/anaconda3/bin/python -m pip install --upgrade pip' command.\u001b[0m\n"
     ]
    }
   ],
   "source": [
    "!pip install pmdarima"
   ]
  },
  {
   "cell_type": "code",
   "execution_count": 2,
   "metadata": {},
   "outputs": [],
   "source": [
    "import os\n",
    "from pathlib import Path\n",
    "import pyreadr\n",
    "import pandas as pd\n",
    "import numpy as np\n",
    "from mizani.breaks import date_breaks\n",
    "from mizani.formatters import date_format\n",
    "from plotnine import *\n",
    "from datetime import datetime\n",
    "import sys\n",
    "import statsmodels\n",
    "import patsy\n",
    "import pmdarima\n",
    "import statsmodels.formula.api as smf"
   ]
  },
  {
   "cell_type": "code",
   "execution_count": 3,
   "metadata": {},
   "outputs": [],
   "source": [
    "path = Path(os.getcwd())"
   ]
  },
  {
   "cell_type": "code",
   "execution_count": 4,
   "metadata": {},
   "outputs": [],
   "source": [
    "base_dir = path.parent.parent"
   ]
  },
  {
   "cell_type": "code",
   "execution_count": 5,
   "metadata": {},
   "outputs": [],
   "source": [
    "data_in = os.path.join(str(base_dir) , \"da_data_repo/case-shiller-la/clean/\")\n",
    "data_out = os.path.join(str(base_dir) , \"da_data_repo/ch18-case-shiller-la/\")\n",
    "output = os.path.join(data_out,'output')\n",
    "func = os.path.join(str(base_dir) ,   \"da_case_studies/ch00-tech-prep/\")"
   ]
  },
  {
   "cell_type": "code",
   "execution_count": 6,
   "metadata": {},
   "outputs": [],
   "source": [
    "sys.path.append(func)\n",
    "from py_helper_functions import *"
   ]
  },
  {
   "cell_type": "code",
   "execution_count": 7,
   "metadata": {},
   "outputs": [],
   "source": [
    "#rds_path = os.path.join(data_in,\"houseprices-data-1990-2018.rds\")\n",
    "#result = pyreadr.read_r(rds_path)"
   ]
  },
  {
   "cell_type": "code",
   "execution_count": 8,
   "metadata": {},
   "outputs": [],
   "source": [
    "csv_path = os.path.join(data_in,\"houseprices-data-1990-2018.csv\")\n",
    "data = pd.read_csv(csv_path)"
   ]
  },
  {
   "cell_type": "code",
   "execution_count": 9,
   "metadata": {},
   "outputs": [
    {
     "data": {
      "text/html": [
       "<div>\n",
       "<style scoped>\n",
       "    .dataframe tbody tr th:only-of-type {\n",
       "        vertical-align: middle;\n",
       "    }\n",
       "\n",
       "    .dataframe tbody tr th {\n",
       "        vertical-align: top;\n",
       "    }\n",
       "\n",
       "    .dataframe thead th {\n",
       "        text-align: right;\n",
       "    }\n",
       "</style>\n",
       "<table border=\"1\" class=\"dataframe\">\n",
       "  <thead>\n",
       "    <tr style=\"text-align: right;\">\n",
       "      <th></th>\n",
       "      <th>date</th>\n",
       "      <th>CANA</th>\n",
       "      <th>CANAN</th>\n",
       "      <th>CAUR</th>\n",
       "      <th>CAURN</th>\n",
       "      <th>LXXRNSA</th>\n",
       "      <th>LXXRSA</th>\n",
       "      <th>ps</th>\n",
       "      <th>pn</th>\n",
       "      <th>us</th>\n",
       "      <th>un</th>\n",
       "      <th>emps</th>\n",
       "      <th>empn</th>\n",
       "    </tr>\n",
       "  </thead>\n",
       "  <tbody>\n",
       "    <tr>\n",
       "      <th>0</th>\n",
       "      <td>1990 jan.</td>\n",
       "      <td>12495.2</td>\n",
       "      <td>12329.0</td>\n",
       "      <td>5.2</td>\n",
       "      <td>5.7</td>\n",
       "      <td>100.225510</td>\n",
       "      <td>100.471193</td>\n",
       "      <td>100.471193</td>\n",
       "      <td>100.225510</td>\n",
       "      <td>5.2</td>\n",
       "      <td>5.7</td>\n",
       "      <td>12495.2</td>\n",
       "      <td>12329.0</td>\n",
       "    </tr>\n",
       "    <tr>\n",
       "      <th>1</th>\n",
       "      <td>1990 febr.</td>\n",
       "      <td>12500.7</td>\n",
       "      <td>12399.1</td>\n",
       "      <td>5.2</td>\n",
       "      <td>5.6</td>\n",
       "      <td>100.151430</td>\n",
       "      <td>100.761572</td>\n",
       "      <td>100.761572</td>\n",
       "      <td>100.151430</td>\n",
       "      <td>5.2</td>\n",
       "      <td>5.6</td>\n",
       "      <td>12500.7</td>\n",
       "      <td>12399.1</td>\n",
       "    </tr>\n",
       "    <tr>\n",
       "      <th>2</th>\n",
       "      <td>1990 márc.</td>\n",
       "      <td>12503.6</td>\n",
       "      <td>12476.7</td>\n",
       "      <td>5.2</td>\n",
       "      <td>5.4</td>\n",
       "      <td>100.017670</td>\n",
       "      <td>100.992838</td>\n",
       "      <td>100.992838</td>\n",
       "      <td>100.017670</td>\n",
       "      <td>5.2</td>\n",
       "      <td>5.4</td>\n",
       "      <td>12503.6</td>\n",
       "      <td>12476.7</td>\n",
       "    </tr>\n",
       "    <tr>\n",
       "      <th>3</th>\n",
       "      <td>1990 ápr.</td>\n",
       "      <td>12536.4</td>\n",
       "      <td>12502.9</td>\n",
       "      <td>5.3</td>\n",
       "      <td>5.4</td>\n",
       "      <td>99.986753</td>\n",
       "      <td>100.990410</td>\n",
       "      <td>100.990410</td>\n",
       "      <td>99.986753</td>\n",
       "      <td>5.3</td>\n",
       "      <td>5.4</td>\n",
       "      <td>12536.4</td>\n",
       "      <td>12502.9</td>\n",
       "    </tr>\n",
       "    <tr>\n",
       "      <th>4</th>\n",
       "      <td>1990 máj.</td>\n",
       "      <td>12553.2</td>\n",
       "      <td>12566.3</td>\n",
       "      <td>5.4</td>\n",
       "      <td>5.2</td>\n",
       "      <td>99.791606</td>\n",
       "      <td>100.394583</td>\n",
       "      <td>100.394583</td>\n",
       "      <td>99.791606</td>\n",
       "      <td>5.4</td>\n",
       "      <td>5.2</td>\n",
       "      <td>12553.2</td>\n",
       "      <td>12566.3</td>\n",
       "    </tr>\n",
       "  </tbody>\n",
       "</table>\n",
       "</div>"
      ],
      "text/plain": [
       "         date     CANA    CANAN  CAUR  CAURN     LXXRNSA      LXXRSA  \\\n",
       "0   1990 jan.  12495.2  12329.0   5.2    5.7  100.225510  100.471193   \n",
       "1  1990 febr.  12500.7  12399.1   5.2    5.6  100.151430  100.761572   \n",
       "2  1990 márc.  12503.6  12476.7   5.2    5.4  100.017670  100.992838   \n",
       "3   1990 ápr.  12536.4  12502.9   5.3    5.4   99.986753  100.990410   \n",
       "4   1990 máj.  12553.2  12566.3   5.4    5.2   99.791606  100.394583   \n",
       "\n",
       "           ps          pn   us   un     emps     empn  \n",
       "0  100.471193  100.225510  5.2  5.7  12495.2  12329.0  \n",
       "1  100.761572  100.151430  5.2  5.6  12500.7  12399.1  \n",
       "2  100.992838  100.017670  5.2  5.4  12503.6  12476.7  \n",
       "3  100.990410   99.986753  5.3  5.4  12536.4  12502.9  \n",
       "4  100.394583   99.791606  5.4  5.2  12553.2  12566.3  "
      ]
     },
     "execution_count": 9,
     "metadata": {},
     "output_type": "execute_result"
    }
   ],
   "source": [
    "data.head()"
   ]
  },
  {
   "cell_type": "markdown",
   "metadata": {},
   "source": [
    "### Format dates"
   ]
  },
  {
   "cell_type": "code",
   "execution_count": 10,
   "metadata": {},
   "outputs": [],
   "source": [
    "data[['year', 'month']] = data['date'].str.split(' ', n=1, expand=True)\n",
    "month_dict = {'jan.':'01',\n",
    "              'febr.':'02',\n",
    "              'márc.':'03',\n",
    "              'ápr.':'04',\n",
    "              'máj.':'05',\n",
    "              'jún.':'06',\n",
    "              'júl.':'07',\n",
    "              'aug.':'08',\n",
    "              'szept.':'09',\n",
    "              'okt.':'10',\n",
    "              'nov.':'11',\n",
    "              'dec.':'12'}\n",
    "data['month1']='-' + data['month'].map(month_dict)\n",
    "data['date1']=data['year']+data['month1']\n",
    "data['date']=pd.to_datetime(data['date1'])\n",
    "data = data.drop(['year','month','month1','date1'],axis=1)"
   ]
  },
  {
   "cell_type": "code",
   "execution_count": 11,
   "metadata": {},
   "outputs": [
    {
     "data": {
      "text/plain": [
       "date       datetime64[ns]\n",
       "CANA              float64\n",
       "CANAN             float64\n",
       "CAUR              float64\n",
       "CAURN             float64\n",
       "LXXRNSA           float64\n",
       "LXXRSA            float64\n",
       "ps                float64\n",
       "pn                float64\n",
       "us                float64\n",
       "un                float64\n",
       "emps              float64\n",
       "empn              float64\n",
       "dtype: object"
      ]
     },
     "execution_count": 11,
     "metadata": {},
     "output_type": "execute_result"
    }
   ],
   "source": [
    "data.dtypes"
   ]
  },
  {
   "cell_type": "code",
   "execution_count": 12,
   "metadata": {},
   "outputs": [],
   "source": [
    "data = data[(data['date'] >= '2000-01-01') & (data['date'] < '2018-01-01')]"
   ]
  },
  {
   "cell_type": "code",
   "execution_count": 13,
   "metadata": {},
   "outputs": [],
   "source": [
    "data = data.sort_values('date')"
   ]
  },
  {
   "cell_type": "code",
   "execution_count": 14,
   "metadata": {},
   "outputs": [
    {
     "data": {
      "text/html": [
       "<div>\n",
       "<style scoped>\n",
       "    .dataframe tbody tr th:only-of-type {\n",
       "        vertical-align: middle;\n",
       "    }\n",
       "\n",
       "    .dataframe tbody tr th {\n",
       "        vertical-align: top;\n",
       "    }\n",
       "\n",
       "    .dataframe thead th {\n",
       "        text-align: right;\n",
       "    }\n",
       "</style>\n",
       "<table border=\"1\" class=\"dataframe\">\n",
       "  <thead>\n",
       "    <tr style=\"text-align: right;\">\n",
       "      <th></th>\n",
       "      <th>date</th>\n",
       "      <th>CANA</th>\n",
       "      <th>CANAN</th>\n",
       "      <th>CAUR</th>\n",
       "      <th>CAURN</th>\n",
       "      <th>LXXRNSA</th>\n",
       "      <th>LXXRSA</th>\n",
       "      <th>ps</th>\n",
       "      <th>pn</th>\n",
       "      <th>us</th>\n",
       "      <th>un</th>\n",
       "      <th>emps</th>\n",
       "      <th>empn</th>\n",
       "    </tr>\n",
       "  </thead>\n",
       "  <tbody>\n",
       "    <tr>\n",
       "      <th>120</th>\n",
       "      <td>2000-01-01</td>\n",
       "      <td>14346.8</td>\n",
       "      <td>14132.7</td>\n",
       "      <td>5.0</td>\n",
       "      <td>5.4</td>\n",
       "      <td>100.00000</td>\n",
       "      <td>101.031209</td>\n",
       "      <td>101.031209</td>\n",
       "      <td>100.00000</td>\n",
       "      <td>5.0</td>\n",
       "      <td>5.4</td>\n",
       "      <td>14346.8</td>\n",
       "      <td>14132.7</td>\n",
       "    </tr>\n",
       "    <tr>\n",
       "      <th>121</th>\n",
       "      <td>2000-02-01</td>\n",
       "      <td>14390.6</td>\n",
       "      <td>14270.0</td>\n",
       "      <td>5.0</td>\n",
       "      <td>5.4</td>\n",
       "      <td>100.61896</td>\n",
       "      <td>102.043406</td>\n",
       "      <td>102.043406</td>\n",
       "      <td>100.61896</td>\n",
       "      <td>5.0</td>\n",
       "      <td>5.4</td>\n",
       "      <td>14390.6</td>\n",
       "      <td>14270.0</td>\n",
       "    </tr>\n",
       "    <tr>\n",
       "      <th>122</th>\n",
       "      <td>2000-03-01</td>\n",
       "      <td>14431.7</td>\n",
       "      <td>14421.3</td>\n",
       "      <td>5.0</td>\n",
       "      <td>5.4</td>\n",
       "      <td>102.12780</td>\n",
       "      <td>103.224699</td>\n",
       "      <td>103.224699</td>\n",
       "      <td>102.12780</td>\n",
       "      <td>5.0</td>\n",
       "      <td>5.4</td>\n",
       "      <td>14431.7</td>\n",
       "      <td>14421.3</td>\n",
       "    </tr>\n",
       "    <tr>\n",
       "      <th>123</th>\n",
       "      <td>2000-04-01</td>\n",
       "      <td>14482.4</td>\n",
       "      <td>14451.0</td>\n",
       "      <td>5.1</td>\n",
       "      <td>4.8</td>\n",
       "      <td>103.70410</td>\n",
       "      <td>104.159399</td>\n",
       "      <td>104.159399</td>\n",
       "      <td>103.70410</td>\n",
       "      <td>5.1</td>\n",
       "      <td>4.8</td>\n",
       "      <td>14482.4</td>\n",
       "      <td>14451.0</td>\n",
       "    </tr>\n",
       "    <tr>\n",
       "      <th>124</th>\n",
       "      <td>2000-05-01</td>\n",
       "      <td>14550.6</td>\n",
       "      <td>14590.2</td>\n",
       "      <td>5.1</td>\n",
       "      <td>4.8</td>\n",
       "      <td>104.98908</td>\n",
       "      <td>104.924698</td>\n",
       "      <td>104.924698</td>\n",
       "      <td>104.98908</td>\n",
       "      <td>5.1</td>\n",
       "      <td>4.8</td>\n",
       "      <td>14550.6</td>\n",
       "      <td>14590.2</td>\n",
       "    </tr>\n",
       "  </tbody>\n",
       "</table>\n",
       "</div>"
      ],
      "text/plain": [
       "          date     CANA    CANAN  CAUR  CAURN    LXXRNSA      LXXRSA  \\\n",
       "120 2000-01-01  14346.8  14132.7   5.0    5.4  100.00000  101.031209   \n",
       "121 2000-02-01  14390.6  14270.0   5.0    5.4  100.61896  102.043406   \n",
       "122 2000-03-01  14431.7  14421.3   5.0    5.4  102.12780  103.224699   \n",
       "123 2000-04-01  14482.4  14451.0   5.1    4.8  103.70410  104.159399   \n",
       "124 2000-05-01  14550.6  14590.2   5.1    4.8  104.98908  104.924698   \n",
       "\n",
       "             ps         pn   us   un     emps     empn  \n",
       "120  101.031209  100.00000  5.0  5.4  14346.8  14132.7  \n",
       "121  102.043406  100.61896  5.0  5.4  14390.6  14270.0  \n",
       "122  103.224699  102.12780  5.0  5.4  14431.7  14421.3  \n",
       "123  104.159399  103.70410  5.1  4.8  14482.4  14451.0  \n",
       "124  104.924698  104.98908  5.1  4.8  14550.6  14590.2  "
      ]
     },
     "execution_count": 14,
     "metadata": {},
     "output_type": "execute_result"
    }
   ],
   "source": [
    "data.head()"
   ]
  },
  {
   "cell_type": "code",
   "execution_count": 15,
   "metadata": {},
   "outputs": [],
   "source": [
    "data = data.assign(p=data['pn'],u=data['us'],emp=data['emps'])"
   ]
  },
  {
   "cell_type": "code",
   "execution_count": 16,
   "metadata": {},
   "outputs": [],
   "source": [
    "data =  data.assign(\n",
    "        dp = data['p'].diff(),\n",
    "        p_lag = data['p'].shift(),\n",
    "        lnp = np.log(data['p']))\n",
    "data =  data.assign(\n",
    "        dlnp = data['lnp'].diff(),\n",
    "        lnp_lag = data['lnp'].shift())\n",
    "data =  data.assign(\n",
    "        dlnp_lag = data['dlnp'].shift(),\n",
    "        du = data['u'].diff(),\n",
    "        lnemp = np.log(data['emp']))\n",
    "\n",
    "data['dlnemp'] = data['lnemp'].diff()"
   ]
  },
  {
   "cell_type": "code",
   "execution_count": 17,
   "metadata": {},
   "outputs": [],
   "source": [
    "data = data.reset_index(drop=True)"
   ]
  },
  {
   "cell_type": "code",
   "execution_count": 18,
   "metadata": {},
   "outputs": [
    {
     "data": {
      "text/html": [
       "<div>\n",
       "<style scoped>\n",
       "    .dataframe tbody tr th:only-of-type {\n",
       "        vertical-align: middle;\n",
       "    }\n",
       "\n",
       "    .dataframe tbody tr th {\n",
       "        vertical-align: top;\n",
       "    }\n",
       "\n",
       "    .dataframe thead th {\n",
       "        text-align: right;\n",
       "    }\n",
       "</style>\n",
       "<table border=\"1\" class=\"dataframe\">\n",
       "  <thead>\n",
       "    <tr style=\"text-align: right;\">\n",
       "      <th></th>\n",
       "      <th>date</th>\n",
       "      <th>CANA</th>\n",
       "      <th>CANAN</th>\n",
       "      <th>CAUR</th>\n",
       "      <th>CAURN</th>\n",
       "      <th>LXXRNSA</th>\n",
       "      <th>LXXRSA</th>\n",
       "      <th>ps</th>\n",
       "      <th>pn</th>\n",
       "      <th>us</th>\n",
       "      <th>...</th>\n",
       "      <th>emp</th>\n",
       "      <th>dp</th>\n",
       "      <th>p_lag</th>\n",
       "      <th>lnp</th>\n",
       "      <th>dlnp</th>\n",
       "      <th>lnp_lag</th>\n",
       "      <th>dlnp_lag</th>\n",
       "      <th>du</th>\n",
       "      <th>lnemp</th>\n",
       "      <th>dlnemp</th>\n",
       "    </tr>\n",
       "  </thead>\n",
       "  <tbody>\n",
       "    <tr>\n",
       "      <th>0</th>\n",
       "      <td>2000-01-01</td>\n",
       "      <td>14346.8</td>\n",
       "      <td>14132.7</td>\n",
       "      <td>5.0</td>\n",
       "      <td>5.4</td>\n",
       "      <td>100.000000</td>\n",
       "      <td>101.031209</td>\n",
       "      <td>101.031209</td>\n",
       "      <td>100.000000</td>\n",
       "      <td>5.0</td>\n",
       "      <td>...</td>\n",
       "      <td>14346.8</td>\n",
       "      <td>NaN</td>\n",
       "      <td>NaN</td>\n",
       "      <td>4.605170</td>\n",
       "      <td>NaN</td>\n",
       "      <td>NaN</td>\n",
       "      <td>NaN</td>\n",
       "      <td>NaN</td>\n",
       "      <td>9.571282</td>\n",
       "      <td>NaN</td>\n",
       "    </tr>\n",
       "    <tr>\n",
       "      <th>1</th>\n",
       "      <td>2000-02-01</td>\n",
       "      <td>14390.6</td>\n",
       "      <td>14270.0</td>\n",
       "      <td>5.0</td>\n",
       "      <td>5.4</td>\n",
       "      <td>100.618960</td>\n",
       "      <td>102.043406</td>\n",
       "      <td>102.043406</td>\n",
       "      <td>100.618960</td>\n",
       "      <td>5.0</td>\n",
       "      <td>...</td>\n",
       "      <td>14390.6</td>\n",
       "      <td>0.618960</td>\n",
       "      <td>100.000000</td>\n",
       "      <td>4.611341</td>\n",
       "      <td>0.006171</td>\n",
       "      <td>4.605170</td>\n",
       "      <td>NaN</td>\n",
       "      <td>0.0</td>\n",
       "      <td>9.574330</td>\n",
       "      <td>0.003048</td>\n",
       "    </tr>\n",
       "    <tr>\n",
       "      <th>2</th>\n",
       "      <td>2000-03-01</td>\n",
       "      <td>14431.7</td>\n",
       "      <td>14421.3</td>\n",
       "      <td>5.0</td>\n",
       "      <td>5.4</td>\n",
       "      <td>102.127800</td>\n",
       "      <td>103.224699</td>\n",
       "      <td>103.224699</td>\n",
       "      <td>102.127800</td>\n",
       "      <td>5.0</td>\n",
       "      <td>...</td>\n",
       "      <td>14431.7</td>\n",
       "      <td>1.508840</td>\n",
       "      <td>100.618960</td>\n",
       "      <td>4.626225</td>\n",
       "      <td>0.014884</td>\n",
       "      <td>4.611341</td>\n",
       "      <td>0.006171</td>\n",
       "      <td>0.0</td>\n",
       "      <td>9.577182</td>\n",
       "      <td>0.002852</td>\n",
       "    </tr>\n",
       "    <tr>\n",
       "      <th>3</th>\n",
       "      <td>2000-04-01</td>\n",
       "      <td>14482.4</td>\n",
       "      <td>14451.0</td>\n",
       "      <td>5.1</td>\n",
       "      <td>4.8</td>\n",
       "      <td>103.704100</td>\n",
       "      <td>104.159399</td>\n",
       "      <td>104.159399</td>\n",
       "      <td>103.704100</td>\n",
       "      <td>5.1</td>\n",
       "      <td>...</td>\n",
       "      <td>14482.4</td>\n",
       "      <td>1.576300</td>\n",
       "      <td>102.127800</td>\n",
       "      <td>4.641542</td>\n",
       "      <td>0.015317</td>\n",
       "      <td>4.626225</td>\n",
       "      <td>0.014884</td>\n",
       "      <td>0.1</td>\n",
       "      <td>9.580689</td>\n",
       "      <td>0.003507</td>\n",
       "    </tr>\n",
       "    <tr>\n",
       "      <th>4</th>\n",
       "      <td>2000-05-01</td>\n",
       "      <td>14550.6</td>\n",
       "      <td>14590.2</td>\n",
       "      <td>5.1</td>\n",
       "      <td>4.8</td>\n",
       "      <td>104.989080</td>\n",
       "      <td>104.924698</td>\n",
       "      <td>104.924698</td>\n",
       "      <td>104.989080</td>\n",
       "      <td>5.1</td>\n",
       "      <td>...</td>\n",
       "      <td>14550.6</td>\n",
       "      <td>1.284980</td>\n",
       "      <td>103.704100</td>\n",
       "      <td>4.653856</td>\n",
       "      <td>0.012315</td>\n",
       "      <td>4.641542</td>\n",
       "      <td>0.015317</td>\n",
       "      <td>0.0</td>\n",
       "      <td>9.585388</td>\n",
       "      <td>0.004698</td>\n",
       "    </tr>\n",
       "    <tr>\n",
       "      <th>...</th>\n",
       "      <td>...</td>\n",
       "      <td>...</td>\n",
       "      <td>...</td>\n",
       "      <td>...</td>\n",
       "      <td>...</td>\n",
       "      <td>...</td>\n",
       "      <td>...</td>\n",
       "      <td>...</td>\n",
       "      <td>...</td>\n",
       "      <td>...</td>\n",
       "      <td>...</td>\n",
       "      <td>...</td>\n",
       "      <td>...</td>\n",
       "      <td>...</td>\n",
       "      <td>...</td>\n",
       "      <td>...</td>\n",
       "      <td>...</td>\n",
       "      <td>...</td>\n",
       "      <td>...</td>\n",
       "      <td>...</td>\n",
       "      <td>...</td>\n",
       "    </tr>\n",
       "    <tr>\n",
       "      <th>211</th>\n",
       "      <td>2017-08-01</td>\n",
       "      <td>16880.1</td>\n",
       "      <td>16816.7</td>\n",
       "      <td>4.7</td>\n",
       "      <td>5.0</td>\n",
       "      <td>266.852921</td>\n",
       "      <td>265.270468</td>\n",
       "      <td>265.270468</td>\n",
       "      <td>266.852921</td>\n",
       "      <td>4.7</td>\n",
       "      <td>...</td>\n",
       "      <td>16880.1</td>\n",
       "      <td>0.614863</td>\n",
       "      <td>266.238058</td>\n",
       "      <td>5.586698</td>\n",
       "      <td>0.002307</td>\n",
       "      <td>5.584391</td>\n",
       "      <td>0.010913</td>\n",
       "      <td>0.0</td>\n",
       "      <td>9.733891</td>\n",
       "      <td>0.001464</td>\n",
       "    </tr>\n",
       "    <tr>\n",
       "      <th>212</th>\n",
       "      <td>2017-09-01</td>\n",
       "      <td>16910.3</td>\n",
       "      <td>16902.7</td>\n",
       "      <td>4.6</td>\n",
       "      <td>4.4</td>\n",
       "      <td>267.838649</td>\n",
       "      <td>267.011819</td>\n",
       "      <td>267.011819</td>\n",
       "      <td>267.838649</td>\n",
       "      <td>4.6</td>\n",
       "      <td>...</td>\n",
       "      <td>16910.3</td>\n",
       "      <td>0.985727</td>\n",
       "      <td>266.852921</td>\n",
       "      <td>5.590385</td>\n",
       "      <td>0.003687</td>\n",
       "      <td>5.586698</td>\n",
       "      <td>0.002307</td>\n",
       "      <td>-0.1</td>\n",
       "      <td>9.735678</td>\n",
       "      <td>0.001787</td>\n",
       "    </tr>\n",
       "    <tr>\n",
       "      <th>213</th>\n",
       "      <td>2017-10-01</td>\n",
       "      <td>16951.3</td>\n",
       "      <td>17054.4</td>\n",
       "      <td>4.5</td>\n",
       "      <td>4.3</td>\n",
       "      <td>268.278285</td>\n",
       "      <td>268.436825</td>\n",
       "      <td>268.436825</td>\n",
       "      <td>268.278285</td>\n",
       "      <td>4.5</td>\n",
       "      <td>...</td>\n",
       "      <td>16951.3</td>\n",
       "      <td>0.439636</td>\n",
       "      <td>267.838649</td>\n",
       "      <td>5.592025</td>\n",
       "      <td>0.001640</td>\n",
       "      <td>5.590385</td>\n",
       "      <td>0.003687</td>\n",
       "      <td>-0.1</td>\n",
       "      <td>9.738100</td>\n",
       "      <td>0.002422</td>\n",
       "    </tr>\n",
       "    <tr>\n",
       "      <th>214</th>\n",
       "      <td>2017-11-01</td>\n",
       "      <td>16978.5</td>\n",
       "      <td>17164.8</td>\n",
       "      <td>4.5</td>\n",
       "      <td>4.3</td>\n",
       "      <td>270.010862</td>\n",
       "      <td>271.060084</td>\n",
       "      <td>271.060084</td>\n",
       "      <td>270.010862</td>\n",
       "      <td>4.5</td>\n",
       "      <td>...</td>\n",
       "      <td>16978.5</td>\n",
       "      <td>1.732577</td>\n",
       "      <td>268.278285</td>\n",
       "      <td>5.598462</td>\n",
       "      <td>0.006437</td>\n",
       "      <td>5.592025</td>\n",
       "      <td>0.001640</td>\n",
       "      <td>0.0</td>\n",
       "      <td>9.739703</td>\n",
       "      <td>0.001603</td>\n",
       "    </tr>\n",
       "    <tr>\n",
       "      <th>215</th>\n",
       "      <td>2017-12-01</td>\n",
       "      <td>17023.8</td>\n",
       "      <td>17189.4</td>\n",
       "      <td>4.4</td>\n",
       "      <td>4.3</td>\n",
       "      <td>271.579593</td>\n",
       "      <td>273.059659</td>\n",
       "      <td>273.059659</td>\n",
       "      <td>271.579593</td>\n",
       "      <td>4.4</td>\n",
       "      <td>...</td>\n",
       "      <td>17023.8</td>\n",
       "      <td>1.568732</td>\n",
       "      <td>270.010862</td>\n",
       "      <td>5.604255</td>\n",
       "      <td>0.005793</td>\n",
       "      <td>5.598462</td>\n",
       "      <td>0.006437</td>\n",
       "      <td>-0.1</td>\n",
       "      <td>9.742368</td>\n",
       "      <td>0.002665</td>\n",
       "    </tr>\n",
       "  </tbody>\n",
       "</table>\n",
       "<p>216 rows × 25 columns</p>\n",
       "</div>"
      ],
      "text/plain": [
       "          date     CANA    CANAN  CAUR  CAURN     LXXRNSA      LXXRSA  \\\n",
       "0   2000-01-01  14346.8  14132.7   5.0    5.4  100.000000  101.031209   \n",
       "1   2000-02-01  14390.6  14270.0   5.0    5.4  100.618960  102.043406   \n",
       "2   2000-03-01  14431.7  14421.3   5.0    5.4  102.127800  103.224699   \n",
       "3   2000-04-01  14482.4  14451.0   5.1    4.8  103.704100  104.159399   \n",
       "4   2000-05-01  14550.6  14590.2   5.1    4.8  104.989080  104.924698   \n",
       "..         ...      ...      ...   ...    ...         ...         ...   \n",
       "211 2017-08-01  16880.1  16816.7   4.7    5.0  266.852921  265.270468   \n",
       "212 2017-09-01  16910.3  16902.7   4.6    4.4  267.838649  267.011819   \n",
       "213 2017-10-01  16951.3  17054.4   4.5    4.3  268.278285  268.436825   \n",
       "214 2017-11-01  16978.5  17164.8   4.5    4.3  270.010862  271.060084   \n",
       "215 2017-12-01  17023.8  17189.4   4.4    4.3  271.579593  273.059659   \n",
       "\n",
       "             ps          pn   us  ...      emp        dp       p_lag  \\\n",
       "0    101.031209  100.000000  5.0  ...  14346.8       NaN         NaN   \n",
       "1    102.043406  100.618960  5.0  ...  14390.6  0.618960  100.000000   \n",
       "2    103.224699  102.127800  5.0  ...  14431.7  1.508840  100.618960   \n",
       "3    104.159399  103.704100  5.1  ...  14482.4  1.576300  102.127800   \n",
       "4    104.924698  104.989080  5.1  ...  14550.6  1.284980  103.704100   \n",
       "..          ...         ...  ...  ...      ...       ...         ...   \n",
       "211  265.270468  266.852921  4.7  ...  16880.1  0.614863  266.238058   \n",
       "212  267.011819  267.838649  4.6  ...  16910.3  0.985727  266.852921   \n",
       "213  268.436825  268.278285  4.5  ...  16951.3  0.439636  267.838649   \n",
       "214  271.060084  270.010862  4.5  ...  16978.5  1.732577  268.278285   \n",
       "215  273.059659  271.579593  4.4  ...  17023.8  1.568732  270.010862   \n",
       "\n",
       "          lnp      dlnp   lnp_lag  dlnp_lag   du     lnemp    dlnemp  \n",
       "0    4.605170       NaN       NaN       NaN  NaN  9.571282       NaN  \n",
       "1    4.611341  0.006171  4.605170       NaN  0.0  9.574330  0.003048  \n",
       "2    4.626225  0.014884  4.611341  0.006171  0.0  9.577182  0.002852  \n",
       "3    4.641542  0.015317  4.626225  0.014884  0.1  9.580689  0.003507  \n",
       "4    4.653856  0.012315  4.641542  0.015317  0.0  9.585388  0.004698  \n",
       "..        ...       ...       ...       ...  ...       ...       ...  \n",
       "211  5.586698  0.002307  5.584391  0.010913  0.0  9.733891  0.001464  \n",
       "212  5.590385  0.003687  5.586698  0.002307 -0.1  9.735678  0.001787  \n",
       "213  5.592025  0.001640  5.590385  0.003687 -0.1  9.738100  0.002422  \n",
       "214  5.598462  0.006437  5.592025  0.001640  0.0  9.739703  0.001603  \n",
       "215  5.604255  0.005793  5.598462  0.006437 -0.1  9.742368  0.002665  \n",
       "\n",
       "[216 rows x 25 columns]"
      ]
     },
     "execution_count": 18,
     "metadata": {},
     "output_type": "execute_result"
    }
   ],
   "source": [
    "data"
   ]
  },
  {
   "cell_type": "code",
   "execution_count": 19,
   "metadata": {},
   "outputs": [],
   "source": [
    "data['trend']=[i for i in range(1,len(data)+1)]"
   ]
  },
  {
   "cell_type": "code",
   "execution_count": 20,
   "metadata": {},
   "outputs": [],
   "source": [
    "data['month'] = data['date'].dt.strftime('%m').astype('category')"
   ]
  },
  {
   "cell_type": "code",
   "execution_count": 21,
   "metadata": {},
   "outputs": [],
   "source": [
    "#spot check data same as in R"
   ]
  },
  {
   "cell_type": "code",
   "execution_count": 22,
   "metadata": {},
   "outputs": [],
   "source": [
    "assert data.loc[0,'p'] == 100\n",
    "assert data.loc[0,'u'] == 5\n",
    "assert data.loc[0,'emp'] == 14346.8\n",
    "np.testing.assert_almost_equal(data.loc[0,'lnemp'], 9.571282,decimal=5)\n",
    "assert data.loc[0,'month'] == '01'"
   ]
  },
  {
   "cell_type": "code",
   "execution_count": 23,
   "metadata": {},
   "outputs": [],
   "source": [
    "np.testing.assert_almost_equal(data.loc[215,'p'],271.5796,decimal=5)\n",
    "np.testing.assert_almost_equal(data.loc[215,'u'],4.4,decimal=5)\n",
    "np.testing.assert_almost_equal(data.loc[215,'lnemp'],9.742368,decimal=5)\n",
    "assert data.loc[215,'month'] == '12'"
   ]
  },
  {
   "cell_type": "code",
   "execution_count": 24,
   "metadata": {},
   "outputs": [],
   "source": [
    "# GRAPHS part 1"
   ]
  },
  {
   "cell_type": "code",
   "execution_count": 25,
   "metadata": {},
   "outputs": [],
   "source": [
    "limits = datetime(2000, 1, 1), datetime(2018, 1, 1)"
   ]
  },
  {
   "cell_type": "code",
   "execution_count": 26,
   "metadata": {},
   "outputs": [],
   "source": [
    "breaks = date_breaks('1 year')"
   ]
  },
  {
   "cell_type": "code",
   "execution_count": 27,
   "metadata": {},
   "outputs": [],
   "source": [
    "price_index_plot = (ggplot(data) \n",
    "  + geom_line(aes('date','p'),color = color[1], size = 0.5) \n",
    "  + scale_y_continuous(limits = [50,300], breaks = seq(50,300,50)) \n",
    "  + scale_x_date(breaks = breaks(limits)[::3], labels = date_format(\"%b%Y\")) \n",
    "  + labs(y = \"Case-shiller Price index\",x= \"Date (month)\") \n",
    "  + theme_bw())"
   ]
  },
  {
   "cell_type": "code",
   "execution_count": 28,
   "metadata": {},
   "outputs": [
    {
     "data": {
      "text/plain": [
       "[datetime.datetime(2000, 1, 1, 0, 0, tzinfo=datetime.timezone.utc),\n",
       " datetime.datetime(2003, 1, 1, 0, 0, tzinfo=datetime.timezone.utc),\n",
       " datetime.datetime(2006, 1, 1, 0, 0, tzinfo=datetime.timezone.utc),\n",
       " datetime.datetime(2009, 1, 1, 0, 0, tzinfo=datetime.timezone.utc),\n",
       " datetime.datetime(2012, 1, 1, 0, 0, tzinfo=datetime.timezone.utc),\n",
       " datetime.datetime(2015, 1, 1, 0, 0, tzinfo=datetime.timezone.utc),\n",
       " datetime.datetime(2018, 1, 1, 0, 0, tzinfo=datetime.timezone.utc)]"
      ]
     },
     "execution_count": 28,
     "metadata": {},
     "output_type": "execute_result"
    }
   ],
   "source": [
    "breaks(limits)[::3]"
   ]
  },
  {
   "cell_type": "code",
   "execution_count": 29,
   "metadata": {},
   "outputs": [
    {
     "data": {
      "image/png": "[encoded data removed]",
      "text/plain": [
       "<Figure size 640x480 with 1 Axes>"
      ]
     },
     "metadata": {},
     "output_type": "display_data"
    },
    {
     "data": {
      "text/plain": [
       "<ggplot: (-9223372036570875995)>"
      ]
     },
     "execution_count": 29,
     "metadata": {},
     "output_type": "execute_result"
    }
   ],
   "source": [
    "price_index_plot"
   ]
  },
  {
   "cell_type": "markdown",
   "metadata": {},
   "source": [
    "\n"
   ]
  },
  {
   "cell_type": "code",
   "execution_count": 30,
   "metadata": {},
   "outputs": [],
   "source": [
    "#GRAPHS part 2"
   ]
  },
  {
   "cell_type": "code",
   "execution_count": 31,
   "metadata": {},
   "outputs": [],
   "source": [
    "#Create train/holdout data"
   ]
  },
  {
   "cell_type": "code",
   "execution_count": 32,
   "metadata": {},
   "outputs": [],
   "source": [
    "data_holdout= data.loc[data['date'].dt.year==2017,:]\n",
    "data_train= data.loc[data['date'].dt.year<2017,:]"
   ]
  },
  {
   "cell_type": "code",
   "execution_count": 33,
   "metadata": {},
   "outputs": [
    {
     "name": "stderr",
     "output_type": "stream",
     "text": [
      "/anaconda3/lib/python3.6/site-packages/statsmodels/tsa/stattools.py:1685: InterpolationWarning: p-value is smaller than the indicated p-value\n"
     ]
    },
    {
     "data": {
      "text/plain": [
       "(1.2007095633957598,\n",
       " 0.01,\n",
       " 1,\n",
       " {'10%': 0.119, '5%': 0.146, '2.5%': 0.176, '1%': 0.216})"
      ]
     },
     "execution_count": 33,
     "metadata": {},
     "output_type": "execute_result"
    }
   ],
   "source": [
    "#TODO:\n",
    "#data seems ok but stat values don't match\n",
    "#R kpss_stat=1.47\n",
    "#R doc\n",
    "#unitroot_kpss computes the statistic for the\n",
    "#Kwiatkowski et al. unit root test with linear trend and lag 1.\n",
    "\n",
    "statsmodels.tsa.stattools.kpss(data['p'],regression='ct', nlags=1)"
   ]
  },
  {
   "cell_type": "code",
   "execution_count": 34,
   "metadata": {},
   "outputs": [
    {
     "name": "stderr",
     "output_type": "stream",
     "text": [
      "/anaconda3/lib/python3.6/site-packages/statsmodels/tsa/stattools.py:1685: InterpolationWarning: p-value is smaller than the indicated p-value\n"
     ]
    },
    {
     "data": {
      "text/plain": [
       "(1.3121946546487138,\n",
       " 0.01,\n",
       " 1,\n",
       " {'10%': 0.119, '5%': 0.146, '2.5%': 0.176, '1%': 0.216})"
      ]
     },
     "execution_count": 34,
     "metadata": {},
     "output_type": "execute_result"
    }
   ],
   "source": [
    "#TODO:\n",
    "#data seems ok but stat values don't match\n",
    "#R kpss_stat=1.70\n",
    "statsmodels.tsa.stattools.kpss(data['lnp'],regression='ct', nlags=1)"
   ]
  },
  {
   "cell_type": "code",
   "execution_count": 35,
   "metadata": {},
   "outputs": [],
   "source": [
    "#create arima models in R"
   ]
  },
  {
   "cell_type": "code",
   "execution_count": 36,
   "metadata": {},
   "outputs": [],
   "source": [
    "y,X = patsy.dmatrices(\"p ~ month\",data_train)"
   ]
  },
  {
   "cell_type": "code",
   "execution_count": 37,
   "metadata": {},
   "outputs": [],
   "source": [
    "#TODO:\n",
    "#Problem auto-arima doesnt seem to fit the same model as in R. ?"
   ]
  },
  {
   "cell_type": "code",
   "execution_count": 38,
   "metadata": {},
   "outputs": [],
   "source": [
    "arima=pmdarima.arima.auto_arima(y,X,with_intercept=True,seasonal=False)"
   ]
  },
  {
   "cell_type": "code",
   "execution_count": 39,
   "metadata": {},
   "outputs": [
    {
     "data": {
      "text/plain": [
       "ARIMA(order=(2, 0, 0), scoring_args={}, suppress_warnings=True,\n",
       "      with_intercept=False)"
      ]
     },
     "execution_count": 39,
     "metadata": {},
     "output_type": "execute_result"
    }
   ],
   "source": [
    "arima"
   ]
  },
  {
   "cell_type": "code",
   "execution_count": 40,
   "metadata": {},
   "outputs": [
    {
     "data": {
      "text/html": [
       "<table class=\"simpletable\">\n",
       "<caption>SARIMAX Results</caption>\n",
       "<tr>\n",
       "  <th>Dep. Variable:</th>           <td>y</td>        <th>  No. Observations:  </th>    <td>204</td>  \n",
       "</tr>\n",
       "<tr>\n",
       "  <th>Model:</th>           <td>SARIMAX(2, 0, 0)</td> <th>  Log Likelihood     </th> <td>-260.314</td>\n",
       "</tr>\n",
       "<tr>\n",
       "  <th>Date:</th>            <td>Thu, 15 Apr 2021</td> <th>  AIC                </th>  <td>550.628</td>\n",
       "</tr>\n",
       "<tr>\n",
       "  <th>Time:</th>                <td>19:21:33</td>     <th>  BIC                </th>  <td>600.400</td>\n",
       "</tr>\n",
       "<tr>\n",
       "  <th>Sample:</th>                  <td>0</td>        <th>  HQIC               </th>  <td>570.762</td>\n",
       "</tr>\n",
       "<tr>\n",
       "  <th></th>                      <td> - 204</td>      <th>                     </th>     <td> </td>   \n",
       "</tr>\n",
       "<tr>\n",
       "  <th>Covariance Type:</th>        <td>opg</td>       <th>                     </th>     <td> </td>   \n",
       "</tr>\n",
       "</table>\n",
       "<table class=\"simpletable\">\n",
       "<tr>\n",
       "     <td></td>       <th>coef</th>     <th>std err</th>      <th>z</th>      <th>P>|z|</th>  <th>[0.025</th>    <th>0.975]</th>  \n",
       "</tr>\n",
       "<tr>\n",
       "  <th>const</th>  <td>  186.1641</td> <td>   17.053</td> <td>   10.917</td> <td> 0.000</td> <td>  152.741</td> <td>  219.587</td>\n",
       "</tr>\n",
       "<tr>\n",
       "  <th>x1</th>     <td>   -0.8563</td> <td>    0.218</td> <td>   -3.927</td> <td> 0.000</td> <td>   -1.284</td> <td>   -0.429</td>\n",
       "</tr>\n",
       "<tr>\n",
       "  <th>x2</th>     <td>   -0.7733</td> <td>    0.398</td> <td>   -1.943</td> <td> 0.052</td> <td>   -1.553</td> <td>    0.007</td>\n",
       "</tr>\n",
       "<tr>\n",
       "  <th>x3</th>     <td>    0.2489</td> <td>    0.558</td> <td>    0.446</td> <td> 0.655</td> <td>   -0.844</td> <td>    1.342</td>\n",
       "</tr>\n",
       "<tr>\n",
       "  <th>x4</th>     <td>    1.5687</td> <td>    0.644</td> <td>    2.436</td> <td> 0.015</td> <td>    0.306</td> <td>    2.831</td>\n",
       "</tr>\n",
       "<tr>\n",
       "  <th>x5</th>     <td>    2.7350</td> <td>    0.713</td> <td>    3.836</td> <td> 0.000</td> <td>    1.337</td> <td>    4.132</td>\n",
       "</tr>\n",
       "<tr>\n",
       "  <th>x6</th>     <td>    3.5831</td> <td>    0.717</td> <td>    4.998</td> <td> 0.000</td> <td>    2.178</td> <td>    4.988</td>\n",
       "</tr>\n",
       "<tr>\n",
       "  <th>x7</th>     <td>    3.8783</td> <td>    0.700</td> <td>    5.537</td> <td> 0.000</td> <td>    2.505</td> <td>    5.251</td>\n",
       "</tr>\n",
       "<tr>\n",
       "  <th>x8</th>     <td>    3.7571</td> <td>    0.645</td> <td>    5.821</td> <td> 0.000</td> <td>    2.492</td> <td>    5.022</td>\n",
       "</tr>\n",
       "<tr>\n",
       "  <th>x9</th>     <td>    3.0839</td> <td>    0.517</td> <td>    5.967</td> <td> 0.000</td> <td>    2.071</td> <td>    4.097</td>\n",
       "</tr>\n",
       "<tr>\n",
       "  <th>x10</th>    <td>    2.0851</td> <td>    0.383</td> <td>    5.442</td> <td> 0.000</td> <td>    1.334</td> <td>    2.836</td>\n",
       "</tr>\n",
       "<tr>\n",
       "  <th>x11</th>    <td>    1.0109</td> <td>    0.219</td> <td>    4.610</td> <td> 0.000</td> <td>    0.581</td> <td>    1.441</td>\n",
       "</tr>\n",
       "<tr>\n",
       "  <th>ar.L1</th>  <td>    1.9454</td> <td>    0.018</td> <td>  105.728</td> <td> 0.000</td> <td>    1.909</td> <td>    1.981</td>\n",
       "</tr>\n",
       "<tr>\n",
       "  <th>ar.L2</th>  <td>   -0.9485</td> <td>    0.018</td> <td>  -51.395</td> <td> 0.000</td> <td>   -0.985</td> <td>   -0.912</td>\n",
       "</tr>\n",
       "<tr>\n",
       "  <th>sigma2</th> <td>    0.7119</td> <td>    0.063</td> <td>   11.338</td> <td> 0.000</td> <td>    0.589</td> <td>    0.835</td>\n",
       "</tr>\n",
       "</table>\n",
       "<table class=\"simpletable\">\n",
       "<tr>\n",
       "  <th>Ljung-Box (Q):</th>          <td>46.36</td> <th>  Jarque-Bera (JB):  </th> <td>26.81</td>\n",
       "</tr>\n",
       "<tr>\n",
       "  <th>Prob(Q):</th>                <td>0.23</td>  <th>  Prob(JB):          </th> <td>0.00</td> \n",
       "</tr>\n",
       "<tr>\n",
       "  <th>Heteroskedasticity (H):</th> <td>1.31</td>  <th>  Skew:              </th> <td>-0.49</td>\n",
       "</tr>\n",
       "<tr>\n",
       "  <th>Prob(H) (two-sided):</th>    <td>0.27</td>  <th>  Kurtosis:          </th> <td>4.49</td> \n",
       "</tr>\n",
       "</table><br/><br/>Warnings:<br/>[1] Covariance matrix calculated using the outer product of gradients (complex-step)."
      ],
      "text/plain": [
       "<class 'statsmodels.iolib.summary.Summary'>\n",
       "\"\"\"\n",
       "                               SARIMAX Results                                \n",
       "==============================================================================\n",
       "Dep. Variable:                      y   No. Observations:                  204\n",
       "Model:               SARIMAX(2, 0, 0)   Log Likelihood                -260.314\n",
       "Date:                Thu, 15 Apr 2021   AIC                            550.628\n",
       "Time:                        19:21:33   BIC                            600.400\n",
       "Sample:                             0   HQIC                           570.762\n",
       "                                - 204                                         \n",
       "Covariance Type:                  opg                                         \n",
       "==============================================================================\n",
       "                 coef    std err          z      P>|z|      [0.025      0.975]\n",
       "------------------------------------------------------------------------------\n",
       "const        186.1641     17.053     10.917      0.000     152.741     219.587\n",
       "x1            -0.8563      0.218     -3.927      0.000      -1.284      -0.429\n",
       "x2            -0.7733      0.398     -1.943      0.052      -1.553       0.007\n",
       "x3             0.2489      0.558      0.446      0.655      -0.844       1.342\n",
       "x4             1.5687      0.644      2.436      0.015       0.306       2.831\n",
       "x5             2.7350      0.713      3.836      0.000       1.337       4.132\n",
       "x6             3.5831      0.717      4.998      0.000       2.178       4.988\n",
       "x7             3.8783      0.700      5.537      0.000       2.505       5.251\n",
       "x8             3.7571      0.645      5.821      0.000       2.492       5.022\n",
       "x9             3.0839      0.517      5.967      0.000       2.071       4.097\n",
       "x10            2.0851      0.383      5.442      0.000       1.334       2.836\n",
       "x11            1.0109      0.219      4.610      0.000       0.581       1.441\n",
       "ar.L1          1.9454      0.018    105.728      0.000       1.909       1.981\n",
       "ar.L2         -0.9485      0.018    -51.395      0.000      -0.985      -0.912\n",
       "sigma2         0.7119      0.063     11.338      0.000       0.589       0.835\n",
       "===================================================================================\n",
       "Ljung-Box (Q):                       46.36   Jarque-Bera (JB):                26.81\n",
       "Prob(Q):                              0.23   Prob(JB):                         0.00\n",
       "Heteroskedasticity (H):               1.31   Skew:                            -0.49\n",
       "Prob(H) (two-sided):                  0.27   Kurtosis:                         4.49\n",
       "===================================================================================\n",
       "\n",
       "Warnings:\n",
       "[1] Covariance matrix calculated using the outer product of gradients (complex-step).\n",
       "\"\"\""
      ]
     },
     "execution_count": 40,
     "metadata": {},
     "output_type": "execute_result"
    }
   ],
   "source": [
    "arima.summary()"
   ]
  },
  {
   "cell_type": "code",
   "execution_count": 41,
   "metadata": {},
   "outputs": [],
   "source": [
    "#Setting pdq values as found by R ARIMA the values are pretty close"
   ]
  },
  {
   "cell_type": "code",
   "execution_count": 42,
   "metadata": {},
   "outputs": [],
   "source": [
    "arima = pmdarima.arima.ARIMA(order=(2,1,1),\n",
    "                             seasonal_order=(0,0,0,0),with_intercept=True)"
   ]
  },
  {
   "cell_type": "code",
   "execution_count": 43,
   "metadata": {},
   "outputs": [
    {
     "name": "stderr",
     "output_type": "stream",
     "text": [
      "/anaconda3/lib/python3.6/site-packages/statsmodels/tsa/statespace/sarimax.py:963: UserWarning: Non-stationary starting autoregressive parameters found. Using zeros as starting parameters.\n",
      "/anaconda3/lib/python3.6/site-packages/statsmodels/tsa/statespace/sarimax.py:975: UserWarning: Non-invertible starting MA parameters found. Using zeros as starting parameters.\n",
      "/anaconda3/lib/python3.6/site-packages/statsmodels/base/model.py:568: ConvergenceWarning: Maximum Likelihood optimization failed to converge. Check mle_retvals\n"
     ]
    }
   ],
   "source": [
    "res = arima.fit(y,X)"
   ]
  },
  {
   "cell_type": "code",
   "execution_count": 44,
   "metadata": {},
   "outputs": [
    {
     "data": {
      "text/html": [
       "<table class=\"simpletable\">\n",
       "<caption>SARIMAX Results</caption>\n",
       "<tr>\n",
       "  <th>Dep. Variable:</th>           <td>y</td>        <th>  No. Observations:  </th>    <td>204</td>  \n",
       "</tr>\n",
       "<tr>\n",
       "  <th>Model:</th>           <td>SARIMAX(2, 1, 1)</td> <th>  Log Likelihood     </th> <td>-254.592</td>\n",
       "</tr>\n",
       "<tr>\n",
       "  <th>Date:</th>            <td>Thu, 15 Apr 2021</td> <th>  AIC                </th>  <td>543.184</td>\n",
       "</tr>\n",
       "<tr>\n",
       "  <th>Time:</th>                <td>19:21:35</td>     <th>  BIC                </th>  <td>599.509</td>\n",
       "</tr>\n",
       "<tr>\n",
       "  <th>Sample:</th>                  <td>0</td>        <th>  HQIC               </th>  <td>565.971</td>\n",
       "</tr>\n",
       "<tr>\n",
       "  <th></th>                      <td> - 204</td>      <th>                     </th>     <td> </td>   \n",
       "</tr>\n",
       "<tr>\n",
       "  <th>Covariance Type:</th>        <td>opg</td>       <th>                     </th>     <td> </td>   \n",
       "</tr>\n",
       "</table>\n",
       "<table class=\"simpletable\">\n",
       "<tr>\n",
       "      <td></td>         <th>coef</th>     <th>std err</th>      <th>z</th>      <th>P>|z|</th>  <th>[0.025</th>    <th>0.975]</th>  \n",
       "</tr>\n",
       "<tr>\n",
       "  <th>intercept</th> <td>    0.0922</td> <td>    0.120</td> <td>    0.767</td> <td> 0.443</td> <td>   -0.143</td> <td>    0.328</td>\n",
       "</tr>\n",
       "<tr>\n",
       "  <th>const</th>     <td>-2.374e-06</td> <td> 3.97e-08</td> <td>  -59.799</td> <td> 0.000</td> <td>-2.45e-06</td> <td> -2.3e-06</td>\n",
       "</tr>\n",
       "<tr>\n",
       "  <th>x1</th>        <td>   -0.8559</td> <td>    0.214</td> <td>   -3.991</td> <td> 0.000</td> <td>   -1.276</td> <td>   -0.436</td>\n",
       "</tr>\n",
       "<tr>\n",
       "  <th>x2</th>        <td>   -0.7356</td> <td>    0.387</td> <td>   -1.898</td> <td> 0.058</td> <td>   -1.495</td> <td>    0.024</td>\n",
       "</tr>\n",
       "<tr>\n",
       "  <th>x3</th>        <td>    0.3122</td> <td>    0.537</td> <td>    0.582</td> <td> 0.561</td> <td>   -0.739</td> <td>    1.364</td>\n",
       "</tr>\n",
       "<tr>\n",
       "  <th>x4</th>        <td>    1.6491</td> <td>    0.607</td> <td>    2.718</td> <td> 0.007</td> <td>    0.460</td> <td>    2.838</td>\n",
       "</tr>\n",
       "<tr>\n",
       "  <th>x5</th>        <td>    2.8219</td> <td>    0.676</td> <td>    4.171</td> <td> 0.000</td> <td>    1.496</td> <td>    4.148</td>\n",
       "</tr>\n",
       "<tr>\n",
       "  <th>x6</th>        <td>    3.6694</td> <td>    0.690</td> <td>    5.320</td> <td> 0.000</td> <td>    2.318</td> <td>    5.021</td>\n",
       "</tr>\n",
       "<tr>\n",
       "  <th>x7</th>        <td>    3.9586</td> <td>    0.704</td> <td>    5.624</td> <td> 0.000</td> <td>    2.579</td> <td>    5.338</td>\n",
       "</tr>\n",
       "<tr>\n",
       "  <th>x8</th>        <td>    3.8245</td> <td>    0.637</td> <td>    6.001</td> <td> 0.000</td> <td>    2.575</td> <td>    5.074</td>\n",
       "</tr>\n",
       "<tr>\n",
       "  <th>x9</th>        <td>    3.1420</td> <td>    0.497</td> <td>    6.323</td> <td> 0.000</td> <td>    2.168</td> <td>    4.116</td>\n",
       "</tr>\n",
       "<tr>\n",
       "  <th>x10</th>       <td>    2.1385</td> <td>    0.367</td> <td>    5.826</td> <td> 0.000</td> <td>    1.419</td> <td>    2.858</td>\n",
       "</tr>\n",
       "<tr>\n",
       "  <th>x11</th>       <td>    1.0367</td> <td>    0.210</td> <td>    4.937</td> <td> 0.000</td> <td>    0.625</td> <td>    1.448</td>\n",
       "</tr>\n",
       "<tr>\n",
       "  <th>ar.L1</th>     <td>    0.1252</td> <td>    0.318</td> <td>    0.393</td> <td> 0.694</td> <td>   -0.499</td> <td>    0.749</td>\n",
       "</tr>\n",
       "<tr>\n",
       "  <th>ar.L2</th>     <td>    0.7684</td> <td>    0.297</td> <td>    2.590</td> <td> 0.010</td> <td>    0.187</td> <td>    1.350</td>\n",
       "</tr>\n",
       "<tr>\n",
       "  <th>ma.L1</th>     <td>    0.7628</td> <td>    0.340</td> <td>    2.243</td> <td> 0.025</td> <td>    0.096</td> <td>    1.429</td>\n",
       "</tr>\n",
       "<tr>\n",
       "  <th>sigma2</th>    <td>    0.7117</td> <td>    0.064</td> <td>   11.095</td> <td> 0.000</td> <td>    0.586</td> <td>    0.837</td>\n",
       "</tr>\n",
       "</table>\n",
       "<table class=\"simpletable\">\n",
       "<tr>\n",
       "  <th>Ljung-Box (Q):</th>          <td>45.53</td> <th>  Jarque-Bera (JB):  </th> <td>60.75</td>\n",
       "</tr>\n",
       "<tr>\n",
       "  <th>Prob(Q):</th>                <td>0.25</td>  <th>  Prob(JB):          </th> <td>0.00</td> \n",
       "</tr>\n",
       "<tr>\n",
       "  <th>Heteroskedasticity (H):</th> <td>1.40</td>  <th>  Skew:              </th> <td>-0.70</td>\n",
       "</tr>\n",
       "<tr>\n",
       "  <th>Prob(H) (two-sided):</th>    <td>0.17</td>  <th>  Kurtosis:          </th> <td>5.28</td> \n",
       "</tr>\n",
       "</table><br/><br/>Warnings:<br/>[1] Covariance matrix calculated using the outer product of gradients (complex-step).<br/>[2] Covariance matrix is singular or near-singular, with condition number 1.55e+17. Standard errors may be unstable."
      ],
      "text/plain": [
       "<class 'statsmodels.iolib.summary.Summary'>\n",
       "\"\"\"\n",
       "                               SARIMAX Results                                \n",
       "==============================================================================\n",
       "Dep. Variable:                      y   No. Observations:                  204\n",
       "Model:               SARIMAX(2, 1, 1)   Log Likelihood                -254.592\n",
       "Date:                Thu, 15 Apr 2021   AIC                            543.184\n",
       "Time:                        19:21:35   BIC                            599.509\n",
       "Sample:                             0   HQIC                           565.971\n",
       "                                - 204                                         \n",
       "Covariance Type:                  opg                                         \n",
       "==============================================================================\n",
       "                 coef    std err          z      P>|z|      [0.025      0.975]\n",
       "------------------------------------------------------------------------------\n",
       "intercept      0.0922      0.120      0.767      0.443      -0.143       0.328\n",
       "const      -2.374e-06   3.97e-08    -59.799      0.000   -2.45e-06    -2.3e-06\n",
       "x1            -0.8559      0.214     -3.991      0.000      -1.276      -0.436\n",
       "x2            -0.7356      0.387     -1.898      0.058      -1.495       0.024\n",
       "x3             0.3122      0.537      0.582      0.561      -0.739       1.364\n",
       "x4             1.6491      0.607      2.718      0.007       0.460       2.838\n",
       "x5             2.8219      0.676      4.171      0.000       1.496       4.148\n",
       "x6             3.6694      0.690      5.320      0.000       2.318       5.021\n",
       "x7             3.9586      0.704      5.624      0.000       2.579       5.338\n",
       "x8             3.8245      0.637      6.001      0.000       2.575       5.074\n",
       "x9             3.1420      0.497      6.323      0.000       2.168       4.116\n",
       "x10            2.1385      0.367      5.826      0.000       1.419       2.858\n",
       "x11            1.0367      0.210      4.937      0.000       0.625       1.448\n",
       "ar.L1          0.1252      0.318      0.393      0.694      -0.499       0.749\n",
       "ar.L2          0.7684      0.297      2.590      0.010       0.187       1.350\n",
       "ma.L1          0.7628      0.340      2.243      0.025       0.096       1.429\n",
       "sigma2         0.7117      0.064     11.095      0.000       0.586       0.837\n",
       "===================================================================================\n",
       "Ljung-Box (Q):                       45.53   Jarque-Bera (JB):                60.75\n",
       "Prob(Q):                              0.25   Prob(JB):                         0.00\n",
       "Heteroskedasticity (H):               1.40   Skew:                            -0.70\n",
       "Prob(H) (two-sided):                  0.17   Kurtosis:                         5.28\n",
       "===================================================================================\n",
       "\n",
       "Warnings:\n",
       "[1] Covariance matrix calculated using the outer product of gradients (complex-step).\n",
       "[2] Covariance matrix is singular or near-singular, with condition number 1.55e+17. Standard errors may be unstable.\n",
       "\"\"\""
      ]
     },
     "execution_count": 44,
     "metadata": {},
     "output_type": "execute_result"
    }
   ],
   "source": [
    "res.summary()"
   ]
  },
  {
   "cell_type": "code",
   "execution_count": 45,
   "metadata": {},
   "outputs": [
    {
     "data": {
      "text/plain": [
       "ARIMA(order=(1, 0, 0), scoring_args={}, suppress_warnings=True,\n",
       "      with_intercept=False)"
      ]
     },
     "execution_count": 45,
     "metadata": {},
     "output_type": "execute_result"
    }
   ],
   "source": [
    "y,X = patsy.dmatrices(\"dp ~ month\",data_train)\n",
    "arima=pmdarima.arima.auto_arima(y,X,with_intercept=True,seasonal=False)\n",
    "arima"
   ]
  },
  {
   "cell_type": "code",
   "execution_count": 46,
   "metadata": {},
   "outputs": [
    {
     "data": {
      "text/html": [
       "<table class=\"simpletable\">\n",
       "<caption>SARIMAX Results</caption>\n",
       "<tr>\n",
       "  <th>Dep. Variable:</th>           <td>y</td>        <th>  No. Observations:  </th>    <td>203</td>  \n",
       "</tr>\n",
       "<tr>\n",
       "  <th>Model:</th>           <td>SARIMAX(1, 0, 0)</td> <th>  Log Likelihood     </th> <td>-255.447</td>\n",
       "</tr>\n",
       "<tr>\n",
       "  <th>Date:</th>            <td>Thu, 15 Apr 2021</td> <th>  AIC                </th>  <td>538.895</td>\n",
       "</tr>\n",
       "<tr>\n",
       "  <th>Time:</th>                <td>19:21:42</td>     <th>  BIC                </th>  <td>585.280</td>\n",
       "</tr>\n",
       "<tr>\n",
       "  <th>Sample:</th>                  <td>0</td>        <th>  HQIC               </th>  <td>557.660</td>\n",
       "</tr>\n",
       "<tr>\n",
       "  <th></th>                      <td> - 203</td>      <th>                     </th>     <td> </td>   \n",
       "</tr>\n",
       "<tr>\n",
       "  <th>Covariance Type:</th>        <td>opg</td>       <th>                     </th>     <td> </td>   \n",
       "</tr>\n",
       "</table>\n",
       "<table class=\"simpletable\">\n",
       "<tr>\n",
       "     <td></td>       <th>coef</th>     <th>std err</th>      <th>z</th>      <th>P>|z|</th>  <th>[0.025</th>    <th>0.975]</th>  \n",
       "</tr>\n",
       "<tr>\n",
       "  <th>const</th>  <td>   -0.1818</td> <td>    1.134</td> <td>   -0.160</td> <td> 0.873</td> <td>   -2.405</td> <td>    2.041</td>\n",
       "</tr>\n",
       "<tr>\n",
       "  <th>x1</th>     <td>    0.1833</td> <td>    0.161</td> <td>    1.136</td> <td> 0.256</td> <td>   -0.133</td> <td>    0.500</td>\n",
       "</tr>\n",
       "<tr>\n",
       "  <th>x2</th>     <td>    1.1581</td> <td>    0.247</td> <td>    4.685</td> <td> 0.000</td> <td>    0.674</td> <td>    1.642</td>\n",
       "</tr>\n",
       "<tr>\n",
       "  <th>x3</th>     <td>    2.0872</td> <td>    0.304</td> <td>    6.859</td> <td> 0.000</td> <td>    1.491</td> <td>    2.684</td>\n",
       "</tr>\n",
       "<tr>\n",
       "  <th>x4</th>     <td>    2.3754</td> <td>    0.375</td> <td>    6.341</td> <td> 0.000</td> <td>    1.641</td> <td>    3.110</td>\n",
       "</tr>\n",
       "<tr>\n",
       "  <th>x5</th>     <td>    2.2126</td> <td>    0.399</td> <td>    5.542</td> <td> 0.000</td> <td>    1.430</td> <td>    2.995</td>\n",
       "</tr>\n",
       "<tr>\n",
       "  <th>x6</th>     <td>    1.8868</td> <td>    0.428</td> <td>    4.404</td> <td> 0.000</td> <td>    1.047</td> <td>    2.727</td>\n",
       "</tr>\n",
       "<tr>\n",
       "  <th>x7</th>     <td>    1.3291</td> <td>    0.426</td> <td>    3.121</td> <td> 0.002</td> <td>    0.495</td> <td>    2.164</td>\n",
       "</tr>\n",
       "<tr>\n",
       "  <th>x8</th>     <td>    0.9052</td> <td>    0.401</td> <td>    2.260</td> <td> 0.024</td> <td>    0.120</td> <td>    1.690</td>\n",
       "</tr>\n",
       "<tr>\n",
       "  <th>x9</th>     <td>    0.3573</td> <td>    0.340</td> <td>    1.050</td> <td> 0.294</td> <td>   -0.309</td> <td>    1.024</td>\n",
       "</tr>\n",
       "<tr>\n",
       "  <th>x10</th>    <td>    0.0357</td> <td>    0.277</td> <td>    0.129</td> <td> 0.897</td> <td>   -0.507</td> <td>    0.578</td>\n",
       "</tr>\n",
       "<tr>\n",
       "  <th>x11</th>    <td>   -0.0623</td> <td>    0.201</td> <td>   -0.309</td> <td> 0.757</td> <td>   -0.457</td> <td>    0.332</td>\n",
       "</tr>\n",
       "<tr>\n",
       "  <th>ar.L1</th>  <td>    0.9375</td> <td>    0.020</td> <td>   46.851</td> <td> 0.000</td> <td>    0.898</td> <td>    0.977</td>\n",
       "</tr>\n",
       "<tr>\n",
       "  <th>sigma2</th> <td>    0.7178</td> <td>    0.064</td> <td>   11.293</td> <td> 0.000</td> <td>    0.593</td> <td>    0.842</td>\n",
       "</tr>\n",
       "</table>\n",
       "<table class=\"simpletable\">\n",
       "<tr>\n",
       "  <th>Ljung-Box (Q):</th>          <td>46.15</td> <th>  Jarque-Bera (JB):  </th> <td>48.21</td>\n",
       "</tr>\n",
       "<tr>\n",
       "  <th>Prob(Q):</th>                <td>0.23</td>  <th>  Prob(JB):          </th> <td>0.00</td> \n",
       "</tr>\n",
       "<tr>\n",
       "  <th>Heteroskedasticity (H):</th> <td>1.44</td>  <th>  Skew:              </th> <td>-0.67</td>\n",
       "</tr>\n",
       "<tr>\n",
       "  <th>Prob(H) (two-sided):</th>    <td>0.14</td>  <th>  Kurtosis:          </th> <td>4.97</td> \n",
       "</tr>\n",
       "</table><br/><br/>Warnings:<br/>[1] Covariance matrix calculated using the outer product of gradients (complex-step)."
      ],
      "text/plain": [
       "<class 'statsmodels.iolib.summary.Summary'>\n",
       "\"\"\"\n",
       "                               SARIMAX Results                                \n",
       "==============================================================================\n",
       "Dep. Variable:                      y   No. Observations:                  203\n",
       "Model:               SARIMAX(1, 0, 0)   Log Likelihood                -255.447\n",
       "Date:                Thu, 15 Apr 2021   AIC                            538.895\n",
       "Time:                        19:21:42   BIC                            585.280\n",
       "Sample:                             0   HQIC                           557.660\n",
       "                                - 203                                         \n",
       "Covariance Type:                  opg                                         \n",
       "==============================================================================\n",
       "                 coef    std err          z      P>|z|      [0.025      0.975]\n",
       "------------------------------------------------------------------------------\n",
       "const         -0.1818      1.134     -0.160      0.873      -2.405       2.041\n",
       "x1             0.1833      0.161      1.136      0.256      -0.133       0.500\n",
       "x2             1.1581      0.247      4.685      0.000       0.674       1.642\n",
       "x3             2.0872      0.304      6.859      0.000       1.491       2.684\n",
       "x4             2.3754      0.375      6.341      0.000       1.641       3.110\n",
       "x5             2.2126      0.399      5.542      0.000       1.430       2.995\n",
       "x6             1.8868      0.428      4.404      0.000       1.047       2.727\n",
       "x7             1.3291      0.426      3.121      0.002       0.495       2.164\n",
       "x8             0.9052      0.401      2.260      0.024       0.120       1.690\n",
       "x9             0.3573      0.340      1.050      0.294      -0.309       1.024\n",
       "x10            0.0357      0.277      0.129      0.897      -0.507       0.578\n",
       "x11           -0.0623      0.201     -0.309      0.757      -0.457       0.332\n",
       "ar.L1          0.9375      0.020     46.851      0.000       0.898       0.977\n",
       "sigma2         0.7178      0.064     11.293      0.000       0.593       0.842\n",
       "===================================================================================\n",
       "Ljung-Box (Q):                       46.15   Jarque-Bera (JB):                48.21\n",
       "Prob(Q):                              0.23   Prob(JB):                         0.00\n",
       "Heteroskedasticity (H):               1.44   Skew:                            -0.67\n",
       "Prob(H) (two-sided):                  0.14   Kurtosis:                         4.97\n",
       "===================================================================================\n",
       "\n",
       "Warnings:\n",
       "[1] Covariance matrix calculated using the outer product of gradients (complex-step).\n",
       "\"\"\""
      ]
     },
     "execution_count": 46,
     "metadata": {},
     "output_type": "execute_result"
    }
   ],
   "source": [
    "arima.summary()"
   ]
  },
  {
   "cell_type": "code",
   "execution_count": 47,
   "metadata": {},
   "outputs": [],
   "source": [
    "reg1 = smf.ols('dlnp ~ dlnp_lag', data=data_train).fit()"
   ]
  },
  {
   "cell_type": "code",
   "execution_count": 48,
   "metadata": {},
   "outputs": [
    {
     "name": "stdout",
     "output_type": "stream",
     "text": [
      "                            OLS Regression Results                            \n",
      "==============================================================================\n",
      "Dep. Variable:                   dlnp   R-squared:                       0.857\n",
      "Model:                            OLS   Adj. R-squared:                  0.856\n",
      "Method:                 Least Squares   F-statistic:                     839.7\n",
      "Date:                Thu, 15 Apr 2021   Prob (F-statistic):           1.63e-73\n",
      "Time:                        19:21:42   Log-Likelihood:                 779.72\n",
      "No. Observations:                 202   AIC:                            -1555.\n",
      "Df Residuals:                     200   BIC:                            -1549.\n",
      "Df Model:                           1                                         \n",
      "Covariance Type:                  HC1                                         \n",
      "==============================================================================\n",
      "                 coef    std err          t      P>|t|      [0.025      0.975]\n",
      "------------------------------------------------------------------------------\n",
      "Intercept      0.0003      0.000      0.771      0.442      -0.001       0.001\n",
      "dlnp_lag       0.9259      0.032     28.977      0.000       0.863       0.989\n",
      "==============================================================================\n",
      "Omnibus:                        5.950   Durbin-Watson:                   1.606\n",
      "Prob(Omnibus):                  0.051   Jarque-Bera (JB):                8.725\n",
      "Skew:                           0.099   Prob(JB):                       0.0127\n",
      "Kurtosis:                       3.999   Cond. No.                         74.1\n",
      "==============================================================================\n",
      "\n",
      "Warnings:\n",
      "[1] Standard Errors are heteroscedasticity robust (HC1)\n"
     ]
    }
   ],
   "source": [
    "print(reg1.get_robustcov_results(cov_type='HC1').summary())"
   ]
  },
  {
   "cell_type": "code",
   "execution_count": 49,
   "metadata": {},
   "outputs": [],
   "source": [
    "##Fit ARIMA type models"
   ]
  },
  {
   "cell_type": "code",
   "execution_count": null,
   "metadata": {},
   "outputs": [],
   "source": []
  },
  {
   "cell_type": "code",
   "execution_count": null,
   "metadata": {},
   "outputs": [],
   "source": []
  },
  {
   "cell_type": "code",
   "execution_count": null,
   "metadata": {},
   "outputs": [],
   "source": []
  },
  {
   "cell_type": "code",
   "execution_count": null,
   "metadata": {},
   "outputs": [],
   "source": []
  },
  {
   "cell_type": "code",
   "execution_count": null,
   "metadata": {},
   "outputs": [],
   "source": []
  },
  {
   "cell_type": "code",
   "execution_count": null,
   "metadata": {},
   "outputs": [],
   "source": []
  },
  {
   "cell_type": "code",
   "execution_count": null,
   "metadata": {},
   "outputs": [],
   "source": []
  }
 ],
 "metadata": {
  "kernelspec": {
   "display_name": "Python 3",
   "language": "python",
   "name": "python3"
  },
  "language_info": {
   "codemirror_mode": {
    "name": "ipython",
    "version": 3
   },
   "file_extension": ".py",
   "mimetype": "text/x-python",
   "name": "python",
   "nbconvert_exporter": "python",
   "pygments_lexer": "ipython3",
   "version": "3.6.5"
  }
 },
 "nbformat": 4,
 "nbformat_minor": 2
}
